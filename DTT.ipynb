{
  "cells": [
    {
      "cell_type": "markdown",
      "metadata": {
        "id": "view-in-github",
        "colab_type": "text"
      },
      "source": [
        "<a href=\"https://colab.research.google.com/github/martostwo/Deep_Temporal_Transformer_TimeSeries_Forecasting/blob/main/DTT.ipynb\" target=\"_parent\"><img src=\"https://colab.research.google.com/assets/colab-badge.svg\" alt=\"Open In Colab\"/></a>"
      ]
    },
    {
      "cell_type": "markdown",
      "source": [
        "##Deep Temporal Transformer\n"
      ],
      "metadata": {
        "id": "Cpuw9Ghf6HXE"
      }
    },
    {
      "cell_type": "markdown",
      "source": [
        "#Import & Dark Mode"
      ],
      "metadata": {
        "id": "7WAw5uZb7dae"
      }
    },
    {
      "cell_type": "markdown",
      "source": [
        "Modules Installation"
      ],
      "metadata": {
        "id": "XWXtoca_QWdw"
      }
    },
    {
      "cell_type": "code",
      "source": [
        "!pip install yfinance\n",
        "!pip install ta"
      ],
      "metadata": {
        "colab": {
          "base_uri": "https://localhost:8080/"
        },
        "id": "4XrkYw2uQfGg",
        "outputId": "9b8366f5-dc32-4246-b4aa-1d74f46f94a4"
      },
      "execution_count": null,
      "outputs": [
        {
          "output_type": "stream",
          "name": "stdout",
          "text": [
            "Looking in indexes: https://pypi.org/simple, https://us-python.pkg.dev/colab-wheels/public/simple/\n",
            "Collecting yfinance\n",
            "  Downloading yfinance-0.2.12-py2.py3-none-any.whl (59 kB)\n",
            "\u001b[2K     \u001b[90m━━━━━━━━━━━━━━━━━━━━━━━━━━━━━━━━━━━━━━━━\u001b[0m \u001b[32m59.2/59.2 KB\u001b[0m \u001b[31m1.3 MB/s\u001b[0m eta \u001b[36m0:00:00\u001b[0m\n",
            "\u001b[?25hCollecting beautifulsoup4>=4.11.1\n",
            "  Downloading beautifulsoup4-4.11.2-py3-none-any.whl (129 kB)\n",
            "\u001b[2K     \u001b[90m━━━━━━━━━━━━━━━━━━━━━━━━━━━━━━━━━━━━━━━\u001b[0m \u001b[32m129.4/129.4 KB\u001b[0m \u001b[31m9.4 MB/s\u001b[0m eta \u001b[36m0:00:00\u001b[0m\n",
            "\u001b[?25hCollecting html5lib>=1.1\n",
            "  Downloading html5lib-1.1-py2.py3-none-any.whl (112 kB)\n",
            "\u001b[2K     \u001b[90m━━━━━━━━━━━━━━━━━━━━━━━━━━━━━━━━━━━━━━━\u001b[0m \u001b[32m112.2/112.2 KB\u001b[0m \u001b[31m9.8 MB/s\u001b[0m eta \u001b[36m0:00:00\u001b[0m\n",
            "\u001b[?25hRequirement already satisfied: multitasking>=0.0.7 in /usr/local/lib/python3.9/dist-packages (from yfinance) (0.0.11)\n",
            "Collecting cryptography>=3.3.2\n",
            "  Downloading cryptography-39.0.2-cp36-abi3-manylinux_2_28_x86_64.whl (4.2 MB)\n",
            "\u001b[2K     \u001b[90m━━━━━━━━━━━━━━━━━━━━━━━━━━━━━━━━━━━━━━━━\u001b[0m \u001b[32m4.2/4.2 MB\u001b[0m \u001b[31m40.5 MB/s\u001b[0m eta \u001b[36m0:00:00\u001b[0m\n",
            "\u001b[?25hRequirement already satisfied: numpy>=1.16.5 in /usr/local/lib/python3.9/dist-packages (from yfinance) (1.22.4)\n",
            "Requirement already satisfied: pandas>=1.3.0 in /usr/local/lib/python3.9/dist-packages (from yfinance) (1.3.5)\n",
            "Requirement already satisfied: lxml>=4.9.1 in /usr/local/lib/python3.9/dist-packages (from yfinance) (4.9.2)\n",
            "Requirement already satisfied: pytz>=2022.5 in /usr/local/lib/python3.9/dist-packages (from yfinance) (2022.7.1)\n",
            "Collecting frozendict>=2.3.4\n",
            "  Downloading frozendict-2.3.5-cp39-cp39-manylinux_2_17_x86_64.manylinux2014_x86_64.whl (112 kB)\n",
            "\u001b[2K     \u001b[90m━━━━━━━━━━━━━━━━━━━━━━━━━━━━━━━━━━━━━━━\u001b[0m \u001b[32m112.8/112.8 KB\u001b[0m \u001b[31m8.7 MB/s\u001b[0m eta \u001b[36m0:00:00\u001b[0m\n",
            "\u001b[?25hCollecting requests>=2.26\n",
            "  Downloading requests-2.28.2-py3-none-any.whl (62 kB)\n",
            "\u001b[2K     \u001b[90m━━━━━━━━━━━━━━━━━━━━━━━━━━━━━━━━━━━━━━━━\u001b[0m \u001b[32m62.8/62.8 KB\u001b[0m \u001b[31m3.8 MB/s\u001b[0m eta \u001b[36m0:00:00\u001b[0m\n",
            "\u001b[?25hCollecting appdirs>=1.4.4\n",
            "  Downloading appdirs-1.4.4-py2.py3-none-any.whl (9.6 kB)\n",
            "Collecting soupsieve>1.2\n",
            "  Downloading soupsieve-2.4-py3-none-any.whl (37 kB)\n",
            "Requirement already satisfied: cffi>=1.12 in /usr/local/lib/python3.9/dist-packages (from cryptography>=3.3.2->yfinance) (1.15.1)\n",
            "Requirement already satisfied: webencodings in /usr/local/lib/python3.9/dist-packages (from html5lib>=1.1->yfinance) (0.5.1)\n",
            "Requirement already satisfied: six>=1.9 in /usr/local/lib/python3.9/dist-packages (from html5lib>=1.1->yfinance) (1.15.0)\n",
            "Requirement already satisfied: python-dateutil>=2.7.3 in /usr/local/lib/python3.9/dist-packages (from pandas>=1.3.0->yfinance) (2.8.2)\n",
            "Requirement already satisfied: urllib3<1.27,>=1.21.1 in /usr/local/lib/python3.9/dist-packages (from requests>=2.26->yfinance) (1.26.14)\n",
            "Collecting charset-normalizer<4,>=2\n",
            "  Downloading charset_normalizer-3.1.0-cp39-cp39-manylinux_2_17_x86_64.manylinux2014_x86_64.whl (199 kB)\n",
            "\u001b[2K     \u001b[90m━━━━━━━━━━━━━━━━━━━━━━━━━━━━━━━━━━━━━━━\u001b[0m \u001b[32m199.2/199.2 KB\u001b[0m \u001b[31m7.3 MB/s\u001b[0m eta \u001b[36m0:00:00\u001b[0m\n",
            "\u001b[?25hRequirement already satisfied: certifi>=2017.4.17 in /usr/local/lib/python3.9/dist-packages (from requests>=2.26->yfinance) (2022.12.7)\n",
            "Requirement already satisfied: idna<4,>=2.5 in /usr/local/lib/python3.9/dist-packages (from requests>=2.26->yfinance) (2.10)\n",
            "Requirement already satisfied: pycparser in /usr/local/lib/python3.9/dist-packages (from cffi>=1.12->cryptography>=3.3.2->yfinance) (2.21)\n",
            "Installing collected packages: appdirs, soupsieve, html5lib, frozendict, charset-normalizer, requests, cryptography, beautifulsoup4, yfinance\n",
            "  Attempting uninstall: html5lib\n",
            "    Found existing installation: html5lib 1.0.1\n",
            "    Uninstalling html5lib-1.0.1:\n",
            "      Successfully uninstalled html5lib-1.0.1\n",
            "  Attempting uninstall: requests\n",
            "    Found existing installation: requests 2.25.1\n",
            "    Uninstalling requests-2.25.1:\n",
            "      Successfully uninstalled requests-2.25.1\n",
            "  Attempting uninstall: beautifulsoup4\n",
            "    Found existing installation: beautifulsoup4 4.6.3\n",
            "    Uninstalling beautifulsoup4-4.6.3:\n",
            "      Successfully uninstalled beautifulsoup4-4.6.3\n",
            "Successfully installed appdirs-1.4.4 beautifulsoup4-4.11.2 charset-normalizer-3.1.0 cryptography-39.0.2 frozendict-2.3.5 html5lib-1.1 requests-2.28.2 soupsieve-2.4 yfinance-0.2.12\n",
            "Looking in indexes: https://pypi.org/simple, https://us-python.pkg.dev/colab-wheels/public/simple/\n",
            "Collecting ta\n",
            "  Downloading ta-0.10.2.tar.gz (25 kB)\n",
            "  Preparing metadata (setup.py) ... \u001b[?25l\u001b[?25hdone\n",
            "Requirement already satisfied: numpy in /usr/local/lib/python3.9/dist-packages (from ta) (1.22.4)\n",
            "Requirement already satisfied: pandas in /usr/local/lib/python3.9/dist-packages (from ta) (1.3.5)\n",
            "Requirement already satisfied: pytz>=2017.3 in /usr/local/lib/python3.9/dist-packages (from pandas->ta) (2022.7.1)\n",
            "Requirement already satisfied: python-dateutil>=2.7.3 in /usr/local/lib/python3.9/dist-packages (from pandas->ta) (2.8.2)\n",
            "Requirement already satisfied: six>=1.5 in /usr/local/lib/python3.9/dist-packages (from python-dateutil>=2.7.3->pandas->ta) (1.15.0)\n",
            "Building wheels for collected packages: ta\n",
            "  Building wheel for ta (setup.py) ... \u001b[?25l\u001b[?25hdone\n",
            "  Created wheel for ta: filename=ta-0.10.2-py3-none-any.whl size=29106 sha256=b8c359f5edc4f0ad36ac456b9fdee5126f926e685d2506048a3b43c75c0482ba\n",
            "  Stored in directory: /root/.cache/pip/wheels/6a/76/03/7f785aaa50b9c6ec7e3fd105a62c1b2c45a034512d51e024a9\n",
            "Successfully built ta\n",
            "Installing collected packages: ta\n",
            "Successfully installed ta-0.10.2\n"
          ]
        }
      ]
    },
    {
      "cell_type": "markdown",
      "source": [
        "Module import & Dark Mode"
      ],
      "metadata": {
        "id": "Jm9fn3QiQhp4"
      }
    },
    {
      "cell_type": "code",
      "source": [
        "#Module Import:\n",
        "import pandas as pd;\n",
        "import numpy as np;\n",
        "import warnings;\n",
        "import yfinance as yf;\n",
        "import ta;\n",
        "import matplotlib.pyplot as plt;\n",
        "from matplotlib import cycler;\n",
        "plt.style.use('seaborn');\n",
        "warnings.filterwarnings(\"ignore\");\n",
        "\n",
        "#Dark mode for Graphics:\n",
        "colors = cycler(\n",
        "    'color',\n",
        "    [\n",
        "    '#669FEE','#66EE91', '#9988DD',\n",
        "    '#EECC55', '#88BB44', '#FFBBBB'\n",
        "    ]\n",
        ");\n",
        "\n",
        "plt.rc('figure', facecolor = '#313233');\n",
        "plt.rc('axes', facecolor = \"#313233\", edgecolor='none',\n",
        "       axisbelow=True, grid=True, prop_cycle=colors,\n",
        "       labelcolor = 'gray');\n",
        "\n",
        "plt.rc('grid', color='474A4A', linestyle='solid');\n",
        "plt.rc('xtick', color='gray');\n",
        "plt.rc('ytick', direction='out', color='gray');\n",
        "plt.rc('legend', facecolor=\"#313233\", edgecolor=\"#313233\");\n",
        "plt.rc(\"text\", color=\"#C9C9C9\");\n",
        "plt.rc('figure', facecolor='#313233');"
      ],
      "metadata": {
        "id": "IhTKSGJXQvSo"
      },
      "execution_count": null,
      "outputs": []
    },
    {
      "cell_type": "markdown",
      "source": [
        "#Preprocessing & Features"
      ],
      "metadata": {
        "id": "Qn_NRjZL7n5f"
      }
    },
    {
      "cell_type": "markdown",
      "source": [
        "Preprocessing & Feature Engineering Functions (Yahoo Finance)"
      ],
      "metadata": {
        "id": "KEY6GR3irvGz"
      }
    },
    {
      "cell_type": "code",
      "source": [
        "def yf_preprocessing(ticker):\n",
        "  df = yf.download(ticker, start=\"1990-01-01\")\n",
        "  df.columns = [\"open\", \"high\", \"low\", \"close\", \"adj close\", \"volume\"]\n",
        "  df.index.name = \"date\"\n",
        "  return df\n",
        "\n",
        "def yf_feature(df):\n",
        "\n",
        "    #Copiamos el DataFrame para evitar interferencias en los datos:\n",
        "    df_copy = df.copy()\n",
        "\n",
        "    #creamos el retorno:\n",
        "    df_copy[\"returns\"] = df_copy[\"close\"].pct_change(1)\n",
        "\n",
        "    #price\n",
        "    df_copy[\"op\"] = df_copy[\"open\"].shift(1)\n",
        "    df_copy[\"hi\"] = df_copy[\"high\"].shift(1)\n",
        "    df_copy[\"lo\"] = df_copy[\"low\"].shift(1)\n",
        "    df_copy[\"clo\"] = df_copy[\"close\"].shift(1)\n",
        "\n",
        "    #Volume\n",
        "    df_copy[\"vol\"] = df_copy[\"volume\"].shift(1)\n",
        "\n",
        "    #Creamos las SMAs:\n",
        "    df_copy[\"SMA 15\"] = df_copy[[\"close\"]].rolling(15).mean().shift(1)\n",
        "    df_copy[\"SMA 60\"] = df_copy[[\"close\"]].rolling(60).mean().shift(1)\n",
        "\n",
        "    #Creamos la volatilidad:\n",
        "    df_copy[\"MSD 15\"] = df_copy[\"returns\"].rolling(15).std().shift(1)\n",
        "    df_copy[\"MSD 60\"] = df_copy[\"returns\"].rolling(60).std().shift(1)\n",
        "\n",
        "    #creamos VWAP:\n",
        "    vwap = ta.volume.VolumeWeightedAveragePrice(\n",
        "        high=df['high'],\n",
        "        low=df['low'],\n",
        "        close=df['close'],\n",
        "        volume=df['volume'],\n",
        "        window=5  # periodo de tiempo para el cálculo del VWAP\n",
        "    )\n",
        "    df_copy[\"vwap\"] = vwap.vwap.shift(1)\n",
        "\n",
        "    #Creamos el RSI:\n",
        "    RSI = ta.momentum.RSIIndicator(df_copy[\"close\"], window = 5, fillna = False)\n",
        "    df_copy[\"rsi\"] = RSI.rsi().shift(1)\n",
        "\n",
        "    return df_copy.dropna();"
      ],
      "metadata": {
        "id": "5F4LvOoJad4N"
      },
      "execution_count": null,
      "outputs": []
    },
    {
      "cell_type": "markdown",
      "metadata": {
        "id": "riFjHKOU22aO"
      },
      "source": [
        "# Data processing"
      ]
    },
    {
      "cell_type": "code",
      "execution_count": null,
      "metadata": {
        "colab": {
          "base_uri": "https://localhost:8080/",
          "height": 536
        },
        "id": "u12-bjaOp2uA",
        "outputId": "e6713cfb-6d6c-4966-d047-d634ef4562c5"
      },
      "outputs": [
        {
          "output_type": "stream",
          "name": "stdout",
          "text": [
            "\r[*********************100%***********************]  1 of 1 completed\n"
          ]
        },
        {
          "output_type": "execute_result",
          "data": {
            "text/plain": [
              "                   open         high          low        close    adj close  \\\n",
              "date                                                                          \n",
              "1990-03-29   342.000000   342.070007   339.769989   340.790009   340.790009   \n",
              "1990-03-30   340.790009   341.410004   338.209991   339.940002   339.940002   \n",
              "1990-04-02   339.940002   339.940002   336.329987   338.700012   338.700012   \n",
              "1990-04-03   338.700012   343.760010   338.700012   343.640015   343.640015   \n",
              "1990-04-04   343.640015   344.119995   340.399994   341.089996   341.089996   \n",
              "...                 ...          ...          ...          ...          ...   \n",
              "2023-03-06  4055.149902  4078.489990  4044.610107  4048.419922  4048.419922   \n",
              "2023-03-07  4048.260010  4050.000000  3980.310059  3986.370117  3986.370117   \n",
              "2023-03-08  3987.550049  4000.409912  3969.760010  3992.010010  3992.010010   \n",
              "2023-03-09  3998.659912  4017.810059  3908.699951  3918.320068  3918.320068   \n",
              "2023-03-10  3912.770020  3934.050049  3846.320068  3861.590088  3861.590088   \n",
              "\n",
              "                volume   returns           op           hi           lo  \\\n",
              "date                                                                      \n",
              "1990-03-29   132190000 -0.003538   341.500000   342.579987   340.600006   \n",
              "1990-03-30   139340000 -0.002494   342.000000   342.070007   339.769989   \n",
              "1990-04-02   124360000 -0.003648   340.790009   341.410004   338.209991   \n",
              "1990-04-03   154310000  0.014585   339.940002   339.940002   336.329987   \n",
              "1990-04-04   159530000 -0.007421   338.700012   343.760010   338.700012   \n",
              "...                ...       ...          ...          ...          ...   \n",
              "2023-03-06  4000870000  0.000687  3998.020020  4048.290039  3995.169922   \n",
              "2023-03-07  3922500000 -0.015327  4055.149902  4078.489990  4044.610107   \n",
              "2023-03-08  3535570000  0.001415  4048.260010  4050.000000  3980.310059   \n",
              "2023-03-09  4445260000 -0.018459  3987.550049  4000.409912  3969.760010   \n",
              "2023-03-10  3224106000 -0.014478  3998.659912  4017.810059  3908.699951   \n",
              "\n",
              "                    clo           vol       SMA 15       SMA 60    MSD 15  \\\n",
              "date                                                                        \n",
              "1990-03-29   342.000000  1.423000e+08   339.240000   336.063168  0.007200   \n",
              "1990-03-30   340.790009  1.321900e+08   339.274668   335.763668  0.006848   \n",
              "1990-04-02   339.940002  1.393400e+08   339.408669   335.501501  0.006618   \n",
              "1990-04-03   338.700012  1.243600e+08   339.410669   335.276501  0.006677   \n",
              "1990-04-04   343.640015  1.543100e+08   339.920003   335.107334  0.007270   \n",
              "...                 ...           ...          ...          ...       ...   \n",
              "2023-03-06  4045.639893  4.084730e+09  4038.833333  3978.640169  0.009410   \n",
              "2023-03-07  4048.419922  4.000870e+09  4036.030664  3980.426168  0.009387   \n",
              "2023-03-08  3986.370117  3.922500e+09  4025.969336  3981.300338  0.009468   \n",
              "2023-03-09  3992.010010  3.535570e+09  4016.361344  3981.775338  0.009506   \n",
              "2023-03-10  3918.320068  4.445260e+09  4001.076009  3981.507674  0.010245   \n",
              "\n",
              "              MSD 60         vwap        rsi  \n",
              "date                                          \n",
              "1990-03-29  0.008790   338.536699  66.096091  \n",
              "1990-03-30  0.008794   339.594760  57.090372  \n",
              "1990-04-02  0.008738   340.201172  50.989736  \n",
              "1990-04-03  0.008666   340.200000  42.674302  \n",
              "1990-04-04  0.008862   340.644635  68.365424  \n",
              "...              ...          ...        ...  \n",
              "2023-03-06  0.010690  3983.461275  64.269785  \n",
              "2023-03-07  0.010516  3995.712469  65.007097  \n",
              "2023-03-08  0.010709  4001.737938  41.255288  \n",
              "2023-03-09  0.010668  4009.414303  43.596716  \n",
              "2023-03-10  0.010895  4004.871363  26.406767  \n",
              "\n",
              "[8301 rows x 18 columns]"
            ],
            "text/html": [
              "\n",
              "  <div id=\"df-169f3d8f-186a-47f3-9472-f9d39f55710b\">\n",
              "    <div class=\"colab-df-container\">\n",
              "      <div>\n",
              "<style scoped>\n",
              "    .dataframe tbody tr th:only-of-type {\n",
              "        vertical-align: middle;\n",
              "    }\n",
              "\n",
              "    .dataframe tbody tr th {\n",
              "        vertical-align: top;\n",
              "    }\n",
              "\n",
              "    .dataframe thead th {\n",
              "        text-align: right;\n",
              "    }\n",
              "</style>\n",
              "<table border=\"1\" class=\"dataframe\">\n",
              "  <thead>\n",
              "    <tr style=\"text-align: right;\">\n",
              "      <th></th>\n",
              "      <th>open</th>\n",
              "      <th>high</th>\n",
              "      <th>low</th>\n",
              "      <th>close</th>\n",
              "      <th>adj close</th>\n",
              "      <th>volume</th>\n",
              "      <th>returns</th>\n",
              "      <th>op</th>\n",
              "      <th>hi</th>\n",
              "      <th>lo</th>\n",
              "      <th>clo</th>\n",
              "      <th>vol</th>\n",
              "      <th>SMA 15</th>\n",
              "      <th>SMA 60</th>\n",
              "      <th>MSD 15</th>\n",
              "      <th>MSD 60</th>\n",
              "      <th>vwap</th>\n",
              "      <th>rsi</th>\n",
              "    </tr>\n",
              "    <tr>\n",
              "      <th>date</th>\n",
              "      <th></th>\n",
              "      <th></th>\n",
              "      <th></th>\n",
              "      <th></th>\n",
              "      <th></th>\n",
              "      <th></th>\n",
              "      <th></th>\n",
              "      <th></th>\n",
              "      <th></th>\n",
              "      <th></th>\n",
              "      <th></th>\n",
              "      <th></th>\n",
              "      <th></th>\n",
              "      <th></th>\n",
              "      <th></th>\n",
              "      <th></th>\n",
              "      <th></th>\n",
              "      <th></th>\n",
              "    </tr>\n",
              "  </thead>\n",
              "  <tbody>\n",
              "    <tr>\n",
              "      <th>1990-03-29</th>\n",
              "      <td>342.000000</td>\n",
              "      <td>342.070007</td>\n",
              "      <td>339.769989</td>\n",
              "      <td>340.790009</td>\n",
              "      <td>340.790009</td>\n",
              "      <td>132190000</td>\n",
              "      <td>-0.003538</td>\n",
              "      <td>341.500000</td>\n",
              "      <td>342.579987</td>\n",
              "      <td>340.600006</td>\n",
              "      <td>342.000000</td>\n",
              "      <td>1.423000e+08</td>\n",
              "      <td>339.240000</td>\n",
              "      <td>336.063168</td>\n",
              "      <td>0.007200</td>\n",
              "      <td>0.008790</td>\n",
              "      <td>338.536699</td>\n",
              "      <td>66.096091</td>\n",
              "    </tr>\n",
              "    <tr>\n",
              "      <th>1990-03-30</th>\n",
              "      <td>340.790009</td>\n",
              "      <td>341.410004</td>\n",
              "      <td>338.209991</td>\n",
              "      <td>339.940002</td>\n",
              "      <td>339.940002</td>\n",
              "      <td>139340000</td>\n",
              "      <td>-0.002494</td>\n",
              "      <td>342.000000</td>\n",
              "      <td>342.070007</td>\n",
              "      <td>339.769989</td>\n",
              "      <td>340.790009</td>\n",
              "      <td>1.321900e+08</td>\n",
              "      <td>339.274668</td>\n",
              "      <td>335.763668</td>\n",
              "      <td>0.006848</td>\n",
              "      <td>0.008794</td>\n",
              "      <td>339.594760</td>\n",
              "      <td>57.090372</td>\n",
              "    </tr>\n",
              "    <tr>\n",
              "      <th>1990-04-02</th>\n",
              "      <td>339.940002</td>\n",
              "      <td>339.940002</td>\n",
              "      <td>336.329987</td>\n",
              "      <td>338.700012</td>\n",
              "      <td>338.700012</td>\n",
              "      <td>124360000</td>\n",
              "      <td>-0.003648</td>\n",
              "      <td>340.790009</td>\n",
              "      <td>341.410004</td>\n",
              "      <td>338.209991</td>\n",
              "      <td>339.940002</td>\n",
              "      <td>1.393400e+08</td>\n",
              "      <td>339.408669</td>\n",
              "      <td>335.501501</td>\n",
              "      <td>0.006618</td>\n",
              "      <td>0.008738</td>\n",
              "      <td>340.201172</td>\n",
              "      <td>50.989736</td>\n",
              "    </tr>\n",
              "    <tr>\n",
              "      <th>1990-04-03</th>\n",
              "      <td>338.700012</td>\n",
              "      <td>343.760010</td>\n",
              "      <td>338.700012</td>\n",
              "      <td>343.640015</td>\n",
              "      <td>343.640015</td>\n",
              "      <td>154310000</td>\n",
              "      <td>0.014585</td>\n",
              "      <td>339.940002</td>\n",
              "      <td>339.940002</td>\n",
              "      <td>336.329987</td>\n",
              "      <td>338.700012</td>\n",
              "      <td>1.243600e+08</td>\n",
              "      <td>339.410669</td>\n",
              "      <td>335.276501</td>\n",
              "      <td>0.006677</td>\n",
              "      <td>0.008666</td>\n",
              "      <td>340.200000</td>\n",
              "      <td>42.674302</td>\n",
              "    </tr>\n",
              "    <tr>\n",
              "      <th>1990-04-04</th>\n",
              "      <td>343.640015</td>\n",
              "      <td>344.119995</td>\n",
              "      <td>340.399994</td>\n",
              "      <td>341.089996</td>\n",
              "      <td>341.089996</td>\n",
              "      <td>159530000</td>\n",
              "      <td>-0.007421</td>\n",
              "      <td>338.700012</td>\n",
              "      <td>343.760010</td>\n",
              "      <td>338.700012</td>\n",
              "      <td>343.640015</td>\n",
              "      <td>1.543100e+08</td>\n",
              "      <td>339.920003</td>\n",
              "      <td>335.107334</td>\n",
              "      <td>0.007270</td>\n",
              "      <td>0.008862</td>\n",
              "      <td>340.644635</td>\n",
              "      <td>68.365424</td>\n",
              "    </tr>\n",
              "    <tr>\n",
              "      <th>...</th>\n",
              "      <td>...</td>\n",
              "      <td>...</td>\n",
              "      <td>...</td>\n",
              "      <td>...</td>\n",
              "      <td>...</td>\n",
              "      <td>...</td>\n",
              "      <td>...</td>\n",
              "      <td>...</td>\n",
              "      <td>...</td>\n",
              "      <td>...</td>\n",
              "      <td>...</td>\n",
              "      <td>...</td>\n",
              "      <td>...</td>\n",
              "      <td>...</td>\n",
              "      <td>...</td>\n",
              "      <td>...</td>\n",
              "      <td>...</td>\n",
              "      <td>...</td>\n",
              "    </tr>\n",
              "    <tr>\n",
              "      <th>2023-03-06</th>\n",
              "      <td>4055.149902</td>\n",
              "      <td>4078.489990</td>\n",
              "      <td>4044.610107</td>\n",
              "      <td>4048.419922</td>\n",
              "      <td>4048.419922</td>\n",
              "      <td>4000870000</td>\n",
              "      <td>0.000687</td>\n",
              "      <td>3998.020020</td>\n",
              "      <td>4048.290039</td>\n",
              "      <td>3995.169922</td>\n",
              "      <td>4045.639893</td>\n",
              "      <td>4.084730e+09</td>\n",
              "      <td>4038.833333</td>\n",
              "      <td>3978.640169</td>\n",
              "      <td>0.009410</td>\n",
              "      <td>0.010690</td>\n",
              "      <td>3983.461275</td>\n",
              "      <td>64.269785</td>\n",
              "    </tr>\n",
              "    <tr>\n",
              "      <th>2023-03-07</th>\n",
              "      <td>4048.260010</td>\n",
              "      <td>4050.000000</td>\n",
              "      <td>3980.310059</td>\n",
              "      <td>3986.370117</td>\n",
              "      <td>3986.370117</td>\n",
              "      <td>3922500000</td>\n",
              "      <td>-0.015327</td>\n",
              "      <td>4055.149902</td>\n",
              "      <td>4078.489990</td>\n",
              "      <td>4044.610107</td>\n",
              "      <td>4048.419922</td>\n",
              "      <td>4.000870e+09</td>\n",
              "      <td>4036.030664</td>\n",
              "      <td>3980.426168</td>\n",
              "      <td>0.009387</td>\n",
              "      <td>0.010516</td>\n",
              "      <td>3995.712469</td>\n",
              "      <td>65.007097</td>\n",
              "    </tr>\n",
              "    <tr>\n",
              "      <th>2023-03-08</th>\n",
              "      <td>3987.550049</td>\n",
              "      <td>4000.409912</td>\n",
              "      <td>3969.760010</td>\n",
              "      <td>3992.010010</td>\n",
              "      <td>3992.010010</td>\n",
              "      <td>3535570000</td>\n",
              "      <td>0.001415</td>\n",
              "      <td>4048.260010</td>\n",
              "      <td>4050.000000</td>\n",
              "      <td>3980.310059</td>\n",
              "      <td>3986.370117</td>\n",
              "      <td>3.922500e+09</td>\n",
              "      <td>4025.969336</td>\n",
              "      <td>3981.300338</td>\n",
              "      <td>0.009468</td>\n",
              "      <td>0.010709</td>\n",
              "      <td>4001.737938</td>\n",
              "      <td>41.255288</td>\n",
              "    </tr>\n",
              "    <tr>\n",
              "      <th>2023-03-09</th>\n",
              "      <td>3998.659912</td>\n",
              "      <td>4017.810059</td>\n",
              "      <td>3908.699951</td>\n",
              "      <td>3918.320068</td>\n",
              "      <td>3918.320068</td>\n",
              "      <td>4445260000</td>\n",
              "      <td>-0.018459</td>\n",
              "      <td>3987.550049</td>\n",
              "      <td>4000.409912</td>\n",
              "      <td>3969.760010</td>\n",
              "      <td>3992.010010</td>\n",
              "      <td>3.535570e+09</td>\n",
              "      <td>4016.361344</td>\n",
              "      <td>3981.775338</td>\n",
              "      <td>0.009506</td>\n",
              "      <td>0.010668</td>\n",
              "      <td>4009.414303</td>\n",
              "      <td>43.596716</td>\n",
              "    </tr>\n",
              "    <tr>\n",
              "      <th>2023-03-10</th>\n",
              "      <td>3912.770020</td>\n",
              "      <td>3934.050049</td>\n",
              "      <td>3846.320068</td>\n",
              "      <td>3861.590088</td>\n",
              "      <td>3861.590088</td>\n",
              "      <td>3224106000</td>\n",
              "      <td>-0.014478</td>\n",
              "      <td>3998.659912</td>\n",
              "      <td>4017.810059</td>\n",
              "      <td>3908.699951</td>\n",
              "      <td>3918.320068</td>\n",
              "      <td>4.445260e+09</td>\n",
              "      <td>4001.076009</td>\n",
              "      <td>3981.507674</td>\n",
              "      <td>0.010245</td>\n",
              "      <td>0.010895</td>\n",
              "      <td>4004.871363</td>\n",
              "      <td>26.406767</td>\n",
              "    </tr>\n",
              "  </tbody>\n",
              "</table>\n",
              "<p>8301 rows × 18 columns</p>\n",
              "</div>\n",
              "      <button class=\"colab-df-convert\" onclick=\"convertToInteractive('df-169f3d8f-186a-47f3-9472-f9d39f55710b')\"\n",
              "              title=\"Convert this dataframe to an interactive table.\"\n",
              "              style=\"display:none;\">\n",
              "        \n",
              "  <svg xmlns=\"http://www.w3.org/2000/svg\" height=\"24px\"viewBox=\"0 0 24 24\"\n",
              "       width=\"24px\">\n",
              "    <path d=\"M0 0h24v24H0V0z\" fill=\"none\"/>\n",
              "    <path d=\"M18.56 5.44l.94 2.06.94-2.06 2.06-.94-2.06-.94-.94-2.06-.94 2.06-2.06.94zm-11 1L8.5 8.5l.94-2.06 2.06-.94-2.06-.94L8.5 2.5l-.94 2.06-2.06.94zm10 10l.94 2.06.94-2.06 2.06-.94-2.06-.94-.94-2.06-.94 2.06-2.06.94z\"/><path d=\"M17.41 7.96l-1.37-1.37c-.4-.4-.92-.59-1.43-.59-.52 0-1.04.2-1.43.59L10.3 9.45l-7.72 7.72c-.78.78-.78 2.05 0 2.83L4 21.41c.39.39.9.59 1.41.59.51 0 1.02-.2 1.41-.59l7.78-7.78 2.81-2.81c.8-.78.8-2.07 0-2.86zM5.41 20L4 18.59l7.72-7.72 1.47 1.35L5.41 20z\"/>\n",
              "  </svg>\n",
              "      </button>\n",
              "      \n",
              "  <style>\n",
              "    .colab-df-container {\n",
              "      display:flex;\n",
              "      flex-wrap:wrap;\n",
              "      gap: 12px;\n",
              "    }\n",
              "\n",
              "    .colab-df-convert {\n",
              "      background-color: #E8F0FE;\n",
              "      border: none;\n",
              "      border-radius: 50%;\n",
              "      cursor: pointer;\n",
              "      display: none;\n",
              "      fill: #1967D2;\n",
              "      height: 32px;\n",
              "      padding: 0 0 0 0;\n",
              "      width: 32px;\n",
              "    }\n",
              "\n",
              "    .colab-df-convert:hover {\n",
              "      background-color: #E2EBFA;\n",
              "      box-shadow: 0px 1px 2px rgba(60, 64, 67, 0.3), 0px 1px 3px 1px rgba(60, 64, 67, 0.15);\n",
              "      fill: #174EA6;\n",
              "    }\n",
              "\n",
              "    [theme=dark] .colab-df-convert {\n",
              "      background-color: #3B4455;\n",
              "      fill: #D2E3FC;\n",
              "    }\n",
              "\n",
              "    [theme=dark] .colab-df-convert:hover {\n",
              "      background-color: #434B5C;\n",
              "      box-shadow: 0px 1px 3px 1px rgba(0, 0, 0, 0.15);\n",
              "      filter: drop-shadow(0px 1px 2px rgba(0, 0, 0, 0.3));\n",
              "      fill: #FFFFFF;\n",
              "    }\n",
              "  </style>\n",
              "\n",
              "      <script>\n",
              "        const buttonEl =\n",
              "          document.querySelector('#df-169f3d8f-186a-47f3-9472-f9d39f55710b button.colab-df-convert');\n",
              "        buttonEl.style.display =\n",
              "          google.colab.kernel.accessAllowed ? 'block' : 'none';\n",
              "\n",
              "        async function convertToInteractive(key) {\n",
              "          const element = document.querySelector('#df-169f3d8f-186a-47f3-9472-f9d39f55710b');\n",
              "          const dataTable =\n",
              "            await google.colab.kernel.invokeFunction('convertToInteractive',\n",
              "                                                     [key], {});\n",
              "          if (!dataTable) return;\n",
              "\n",
              "          const docLinkHtml = 'Like what you see? Visit the ' +\n",
              "            '<a target=\"_blank\" href=https://colab.research.google.com/notebooks/data_table.ipynb>data table notebook</a>'\n",
              "            + ' to learn more about interactive tables.';\n",
              "          element.innerHTML = '';\n",
              "          dataTable['output_type'] = 'display_data';\n",
              "          await google.colab.output.renderOutput(dataTable, element);\n",
              "          const docLink = document.createElement('div');\n",
              "          docLink.innerHTML = docLinkHtml;\n",
              "          element.appendChild(docLink);\n",
              "        }\n",
              "      </script>\n",
              "    </div>\n",
              "  </div>\n",
              "  "
            ]
          },
          "metadata": {},
          "execution_count": 4
        }
      ],
      "source": [
        "df = yf_preprocessing(\"^GSPC\")\n",
        "df = yf_feature(df)\n",
        "df"
      ]
    },
    {
      "cell_type": "markdown",
      "metadata": {
        "id": "iNZcj-s6Vp2R"
      },
      "source": [
        "Divide into training and test/validation sets."
      ]
    },
    {
      "cell_type": "code",
      "execution_count": null,
      "metadata": {
        "id": "SBaewsY_p2uB"
      },
      "outputs": [],
      "source": [
        "#Percentage train set\n",
        "split = int(0.85*len(df))\n",
        "split_val = int(0.95*len(df))\n",
        "\n",
        "#Train set\n",
        "x_train = df[['vwap','rsi','SMA 15','SMA 60','MSD 15','MSD 60','op','hi','lo','clo','vol']].iloc[:split,:]\n",
        "y_train = df[['returns']].iloc[:split,:]\n",
        "\n",
        "#Validation set\n",
        "x_val = df[['vwap','rsi','SMA 15','SMA 60','MSD 15','MSD 60','op','hi','lo','clo','vol']].iloc[split:split_val,:]\n",
        "y_val = df[['returns']].iloc[split:split_val,:]\n",
        "\n",
        "#Test set\n",
        "x_test = df[['vwap','rsi','SMA 15','SMA 60','MSD 15','MSD 60','op','hi','lo','clo','vol']].iloc[split_val:,:]\n",
        "y_test = df[['returns']].iloc[split_val:,:]\n",
        "\n",
        "#Standardization\n",
        "from sklearn.preprocessing import StandardScaler\n",
        "sc = StandardScaler()\n",
        "\n",
        "#Estandarizamos conjunto de entrenamiento\n",
        "x_train_sc = sc.fit_transform(x_train)\n",
        "\n",
        "#Estandarizamos conjunto de testing\n",
        "x_val_sc = sc.transform(x_val)\n",
        "\n",
        "#Estandarizamos conjunto de testing\n",
        "x_test_sc = sc.transform(x_test)"
      ]
    },
    {
      "cell_type": "code",
      "source": [
        "#Graficamos los datos con y sin standarización para\n",
        "#ver la diferencia de escala y cómo queda trás el proceso:\n",
        "\n",
        "plt.plot(x_train.values);\n",
        "plt.title(\"Without Standardization\");\n",
        "plt.show();\n",
        "\n",
        "plt.plot(x_train_sc, alpha=0.5);\n",
        "plt.title(\"With Standardization\");\n",
        "plt.show();\n"
      ],
      "metadata": {
        "colab": {
          "base_uri": "https://localhost:8080/",
          "height": 707
        },
        "id": "7zoHAwnmhSGO",
        "outputId": "0a538d7a-afa1-45dd-9d1d-0b70cbb423aa"
      },
      "execution_count": null,
      "outputs": [
        {
          "output_type": "display_data",
          "data": {
            "text/plain": [
              "<Figure size 576x396 with 1 Axes>"
            ],
            "image/png": "[encoded data removed]"
          },
          "metadata": {}
        },
        {
          "output_type": "display_data",
          "data": {
            "text/plain": [
              "<Figure size 576x396 with 1 Axes>"
            ],
            "image/png": "[encoded data removed]"
          },
          "metadata": {}
        }
      ]
    },
    {
      "cell_type": "markdown",
      "source": [
        "#Transform 2D array to 3D"
      ],
      "metadata": {
        "id": "DrtdAn2rERcP"
      }
    },
    {
      "cell_type": "code",
      "source": [
        "def X_3d_RNN(X_s, y_s, lag):\n",
        "\n",
        "    # Verificación simple de longitudes\n",
        "    if len(X_s) != len(y_s):\n",
        "        print(\"Warnings\")\n",
        "\n",
        "    # Creamos la variable X_train\n",
        "    X_train = []\n",
        "    for variable in range(0, X_s.shape[1]):\n",
        "        X = []\n",
        "        for i in range(lag, X_s.shape[0]):\n",
        "            X.append(X_s[i-lag:i, variable])\n",
        "        X_train.append(X)\n",
        "    X_train, np.array(X_train)\n",
        "    X_train = np.swapaxes(np.swapaxes(X_train, 0, 1), 1, 2)\n",
        "\n",
        "    # Creamos la variable y_train\n",
        "    y_train = []\n",
        "    for i in range(lag, y_s.shape[0]):\n",
        "        y_train.append(y_s[i, :].reshape(-1,1).transpose())\n",
        "    y_train = np.concatenate(y_train, axis=0)\n",
        "    return X_train, y_train"
      ],
      "metadata": {
        "id": "xDqD3eTDEWvo"
      },
      "execution_count": null,
      "outputs": []
    },
    {
      "cell_type": "code",
      "source": [
        "lag = 15\n",
        "x_train_3d, y_train_3d = X_3d_RNN(x_train_sc, y_train.values, lag)\n",
        "x_val_3d, y_val_3d = X_3d_RNN(x_val_sc, y_val.values, lag)\n",
        "x_test_3d, y_test_3d = X_3d_RNN(x_test_sc, y_test.values, lag)"
      ],
      "metadata": {
        "id": "rlJJ4cRVHshH"
      },
      "execution_count": null,
      "outputs": []
    },
    {
      "cell_type": "code",
      "source": [
        "print(f\"Shape of training set: {x_train_3d.shape}\")\n",
        "print(f\"Shape of validation set: {x_val_3d.shape}\")\n",
        "print(f\"Shape of test set: {x_test_3d.shape}\")"
      ],
      "metadata": {
        "colab": {
          "base_uri": "https://localhost:8080/"
        },
        "id": "yCmIi9AzgpaG",
        "outputId": "eb59d9de-94d7-489f-8007-ea630a282590"
      },
      "execution_count": null,
      "outputs": [
        {
          "output_type": "stream",
          "name": "stdout",
          "text": [
            "Shape of training set: (7040, 15, 11)\n",
            "Shape of validation set: (815, 15, 11)\n",
            "Shape of test set: (401, 15, 11)\n"
          ]
        }
      ]
    },
    {
      "cell_type": "markdown",
      "metadata": {
        "id": "jlmXgzbcZEHn"
      },
      "source": [
        "Next, we create the transformer_encoder; I obtained this function from a [Keras example](https://keras.io/examples/timeseries/timeseries_transformer_classification/). This layer includes residual connections, layer normalization, and dropout. This resulting layer can be stacked multiple times. We implement the projection layers with the Keras Conv1D."
      ]
    },
    {
      "cell_type": "code",
      "execution_count": null,
      "metadata": {
        "id": "YZ5ltq1L397v"
      },
      "outputs": [],
      "source": [
        "from tensorflow import keras\n",
        "from keras import layers\n",
        "\n",
        "def transformer_encoder(inputs, head_size, num_heads, ff_dim, dropout=0):\n",
        "    # Normalization and Attention\n",
        "    x = layers.LayerNormalization(epsilon=1e-6)(inputs)\n",
        "    x = layers.MultiHeadAttention(\n",
        "        key_dim=head_size, num_heads=num_heads, dropout=dropout\n",
        "    )(x, x, x)\n",
        "    x = layers.Dropout(dropout)(x)\n",
        "    res = x + inputs\n",
        "\n",
        "    # Feed Forward Part\n",
        "    x = layers.LayerNormalization(epsilon=1e-6)(res)\n",
        "    x = layers.Conv1D(filters=ff_dim, kernel_size=1, activation=\"relu\")(x)\n",
        "    x = layers.Dropout(dropout)(x)\n",
        "    x = layers.Conv1D(filters=inputs.shape[-1], kernel_size=1)(x)\n",
        "    return x + res"
      ]
    },
    {
      "cell_type": "markdown",
      "metadata": {
        "id": "Et2peKf3Z4H_"
      },
      "source": [
        "The following function is provided to build the model, including the attention layer."
      ]
    },
    {
      "cell_type": "code",
      "execution_count": null,
      "metadata": {
        "id": "HUAVPayh4MKc"
      },
      "outputs": [],
      "source": [
        "def build_model(\n",
        "    input_shape,\n",
        "    head_size,\n",
        "    num_heads,\n",
        "    ff_dim,\n",
        "    num_transformer_blocks,\n",
        "    mlp_units,\n",
        "    dropout=0,\n",
        "    mlp_dropout=0,\n",
        "):\n",
        "    inputs = keras.Input(shape=input_shape)\n",
        "    x = inputs\n",
        "    x = layers.LSTM(10, return_sequences = True)(x)\n",
        "    for _ in range(num_transformer_blocks):\n",
        "        x = transformer_encoder(x, head_size, num_heads, ff_dim, dropout)\n",
        "\n",
        "    #x = layers.GlobalAveragePooling1D(data_format=\"channels_first\")(x)\n",
        "    \n",
        "    x = layers.GRU(100, return_sequences = False)(x)\n",
        "    x = layers.Dropout(mlp_dropout)(x)\n",
        "    x = layers.Dense(mlp_units, activation=\"relu\")(x)\n",
        "    outputs = layers.Dense(1)(x)\n",
        "    return keras.Model(inputs, outputs)"
      ]
    },
    {
      "cell_type": "markdown",
      "metadata": {
        "id": "CkxS7ZpXc_Tf"
      },
      "source": [
        "We are now ready to build and train the model."
      ]
    },
    {
      "cell_type": "code",
      "execution_count": null,
      "metadata": {
        "colab": {
          "base_uri": "https://localhost:8080/"
        },
        "id": "ZzacEsJip2uB",
        "outputId": "7091065d-1184-48dc-e52d-fc3f28cde029"
      },
      "outputs": [
        {
          "output_type": "stream",
          "name": "stdout",
          "text": [
            "Epoch 1/200\n",
            "110/110 [==============================] - 13s 52ms/step - loss: 0.0017 - val_loss: 2.2793e-04\n",
            "Epoch 2/200\n",
            "110/110 [==============================] - 3s 29ms/step - loss: 3.6921e-04 - val_loss: 2.3642e-04\n",
            "Epoch 3/200\n",
            "110/110 [==============================] - 3s 29ms/step - loss: 2.6137e-04 - val_loss: 2.5320e-04\n",
            "Epoch 4/200\n",
            "110/110 [==============================] - 4s 39ms/step - loss: 2.1108e-04 - val_loss: 2.3845e-04\n",
            "Epoch 5/200\n",
            "110/110 [==============================] - 4s 33ms/step - loss: 1.8652e-04 - val_loss: 2.2570e-04\n",
            "Epoch 6/200\n",
            "110/110 [==============================] - 3s 30ms/step - loss: 1.7291e-04 - val_loss: 2.2033e-04\n",
            "Epoch 7/200\n",
            "110/110 [==============================] - 3s 30ms/step - loss: 1.5947e-04 - val_loss: 2.2889e-04\n",
            "Epoch 8/200\n",
            "110/110 [==============================] - 5s 44ms/step - loss: 1.5928e-04 - val_loss: 2.1920e-04\n",
            "Epoch 9/200\n",
            "110/110 [==============================] - 3s 29ms/step - loss: 1.5377e-04 - val_loss: 2.1475e-04\n",
            "Epoch 10/200\n",
            "110/110 [==============================] - 3s 30ms/step - loss: 1.4823e-04 - val_loss: 2.1397e-04\n",
            "Epoch 11/200\n",
            "110/110 [==============================] - 4s 37ms/step - loss: 1.4300e-04 - val_loss: 2.1543e-04\n",
            "Epoch 12/200\n",
            "110/110 [==============================] - 5s 48ms/step - loss: 1.4185e-04 - val_loss: 2.1384e-04\n",
            "Epoch 13/200\n",
            "110/110 [==============================] - 3s 30ms/step - loss: 1.3889e-04 - val_loss: 2.1636e-04\n",
            "Epoch 14/200\n",
            "110/110 [==============================] - 4s 33ms/step - loss: 1.3898e-04 - val_loss: 2.1163e-04\n",
            "Epoch 15/200\n",
            "110/110 [==============================] - 4s 40ms/step - loss: 1.3847e-04 - val_loss: 2.1270e-04\n",
            "Epoch 16/200\n",
            "110/110 [==============================] - 4s 37ms/step - loss: 1.3372e-04 - val_loss: 2.4212e-04\n",
            "Epoch 17/200\n",
            "110/110 [==============================] - 3s 30ms/step - loss: 1.3331e-04 - val_loss: 2.2127e-04\n",
            "Epoch 18/200\n",
            "110/110 [==============================] - 6s 52ms/step - loss: 1.3353e-04 - val_loss: 2.1640e-04\n",
            "Epoch 19/200\n",
            "110/110 [==============================] - 4s 35ms/step - loss: 1.3282e-04 - val_loss: 2.2789e-04\n"
          ]
        },
        {
          "output_type": "execute_result",
          "data": {
            "text/plain": [
              "<keras.callbacks.History at 0x7f5b3e3187c0>"
            ]
          },
          "metadata": {},
          "execution_count": 173
        }
      ],
      "source": [
        "input_shape = x_train_3d.shape[1:]\n",
        "\n",
        "model = build_model(\n",
        "    input_shape,\n",
        "    head_size=16,\n",
        "    num_heads=1,\n",
        "    ff_dim=4,\n",
        "    num_transformer_blocks=1,\n",
        "    mlp_units=125,\n",
        "    dropout=0.1,\n",
        "    mlp_dropout=0.25\n",
        "    \n",
        ")\n",
        "\n",
        "model.compile(\n",
        "    loss=\"mean_squared_error\",\n",
        "    optimizer=keras.optimizers.Adam()\n",
        ")\n",
        "#model.summary()\n",
        "\n",
        "callbacks = [keras.callbacks.EarlyStopping(patience=5, \\\n",
        "    restore_best_weights=True)]\n",
        "\n",
        "model.fit(\n",
        "    x_train_3d,\n",
        "    y_train_3d,\n",
        "    validation_data = (x_val_3d, y_val_3d),\n",
        "    epochs=200,\n",
        "    batch_size=64,\n",
        "    callbacks=callbacks,\n",
        ")"
      ]
    },
    {
      "cell_type": "code",
      "source": [
        "pd.DataFrame(model.history.history).plot()"
      ],
      "metadata": {
        "colab": {
          "base_uri": "https://localhost:8080/",
          "height": 364
        },
        "id": "BfM3jqhSI5Ns",
        "outputId": "71b8773f-167f-4928-a5c6-d14f5fb04d95"
      },
      "execution_count": null,
      "outputs": [
        {
          "output_type": "execute_result",
          "data": {
            "text/plain": [
              "<AxesSubplot:>"
            ]
          },
          "metadata": {},
          "execution_count": 174
        },
        {
          "output_type": "display_data",
          "data": {
            "text/plain": [
              "<Figure size 576x396 with 1 Axes>"
            ],
            "image/png": "[encoded data removed]"
          },
          "metadata": {}
        }
      ]
    },
    {
      "cell_type": "markdown",
      "metadata": {
        "id": "-jeJf5zsp2uB"
      },
      "source": [
        "Finally, we evaluate the model with RMSE."
      ]
    },
    {
      "cell_type": "code",
      "execution_count": null,
      "metadata": {
        "colab": {
          "base_uri": "https://localhost:8080/"
        },
        "id": "DqiV9Oq2p2uB",
        "outputId": "3d8db221-9b40-4b5f-86d5-b2296060bc29"
      },
      "outputs": [
        {
          "output_type": "stream",
          "name": "stdout",
          "text": [
            "13/13 [==============================] - 1s 7ms/step\n",
            "Score (RMSE): 0.013760356029670285\n"
          ]
        }
      ],
      "source": [
        "from sklearn import metrics\n",
        "\n",
        "pred = model.predict(x_test_3d)\n",
        "score = np.sqrt(metrics.mean_squared_error(pred,y_test_3d))\n",
        "print(\"Score (RMSE): {}\".format(score))"
      ]
    },
    {
      "cell_type": "code",
      "source": [
        "# Create predictions for the whole dataset\n",
        "y_pred_train = np.concatenate((np.zeros([lag,1]), model.predict(x_train_3d)), axis=0)\n",
        "\n",
        "y_pred_val = np.concatenate((np.zeros([lag,1]), model.predict(x_val_3d)), axis=0)\n",
        "\n",
        "y_pred_test = np.concatenate((np.zeros([lag,1]), model.predict(x_test_3d)), axis=0)\n",
        "\n",
        "df[\"prediction\"] = np.concatenate((y_pred_train, y_pred_val, y_pred_test), axis=0)\n",
        "\n",
        "#Calculamos la estrategia:\n",
        "df[\"strategy\"] = df[\"returns\"]*np.sign(df[\"prediction\"].shift(1));"
      ],
      "metadata": {
        "colab": {
          "base_uri": "https://localhost:8080/"
        },
        "id": "g_J7dlsDW5ae",
        "outputId": "7d11afc2-f1e5-458d-f8c9-fdc7694bcb71"
      },
      "execution_count": null,
      "outputs": [
        {
          "output_type": "stream",
          "name": "stdout",
          "text": [
            "220/220 [==============================] - 2s 7ms/step\n",
            "26/26 [==============================] - 0s 8ms/step\n",
            "13/13 [==============================] - 0s 12ms/step\n"
          ]
        }
      ]
    },
    {
      "cell_type": "code",
      "source": [
        "df[\"strategy\"].iloc[:].cumsum().plot()\n",
        "plt.show(); "
      ],
      "metadata": {
        "colab": {
          "base_uri": "https://localhost:8080/",
          "height": 341
        },
        "id": "_X5l7ba_Tk69",
        "outputId": "ef8bda16-4f47-4cb8-ceb3-a4fe6d1fe309"
      },
      "execution_count": null,
      "outputs": [
        {
          "output_type": "display_data",
          "data": {
            "text/plain": [
              "<Figure size 576x396 with 1 Axes>"
            ],
            "image/png": "[encoded data removed]"
          },
          "metadata": {}
        }
      ]
    }
  ],
  "metadata": {
    "anaconda-cloud": {},
    "colab": {
      "provenance": [],
      "include_colab_link": true
    },
    "kernelspec": {
      "display_name": "Python 3",
      "name": "python3"
    },
    "language_info": {
      "name": "python"
    },
    "gpuClass": "standard"
  },
  "nbformat": 4,
  "nbformat_minor": 0
}